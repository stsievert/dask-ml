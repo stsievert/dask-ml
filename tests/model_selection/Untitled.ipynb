{
 "cells": [
  {
   "cell_type": "code",
   "execution_count": 1,
   "metadata": {},
   "outputs": [],
   "source": [
    "%load_ext autoreload\n",
    "%autoreload 2"
   ]
  },
  {
   "cell_type": "code",
   "execution_count": 2,
   "metadata": {},
   "outputs": [
    {
     "name": "stderr",
     "output_type": "stream",
     "text": [
      "/Users/scott/anaconda3/envs/hyperband/lib/python3.7/site-packages/distributed/bokeh/core.py:55: UserWarning: \n",
      "Port 8787 is already in use. \n",
      "Perhaps you already have a cluster running?\n",
      "Hosting the diagnostics dashboard on a random port instead.\n",
      "  warnings.warn('\\n' + msg)\n"
     ]
    },
    {
     "data": {
      "text/html": [
       "<table style=\"border: 2px solid white;\">\n",
       "<tr>\n",
       "<td style=\"vertical-align: top; border: 0px solid white\">\n",
       "<h3>Client</h3>\n",
       "<ul>\n",
       "  <li><b>Scheduler: </b>tcp://127.0.0.1:64850\n",
       "  <li><b>Dashboard: </b><a href='http://127.0.0.1:64851/status' target='_blank'>http://127.0.0.1:64851/status</a>\n",
       "</ul>\n",
       "</td>\n",
       "<td style=\"vertical-align: top; border: 0px solid white\">\n",
       "<h3>Cluster</h3>\n",
       "<ul>\n",
       "  <li><b>Workers: </b>4</li>\n",
       "  <li><b>Cores: </b>4</li>\n",
       "  <li><b>Memory: </b>8.59 GB</li>\n",
       "</ul>\n",
       "</td>\n",
       "</tr>\n",
       "</table>"
      ],
      "text/plain": [
       "<Client: scheduler='tcp://127.0.0.1:64850' processes=4 cores=4>"
      ]
     },
     "execution_count": 2,
     "metadata": {},
     "output_type": "execute_result"
    }
   ],
   "source": [
    "from distributed import Client\n",
    "\n",
    "client = Client()\n",
    "client"
   ]
  },
  {
   "cell_type": "code",
   "execution_count": 3,
   "metadata": {},
   "outputs": [],
   "source": [
    "import numpy as np\n",
    "from dask_ml.model_selection._hyperband import PartialDataFit, HyperbandSearchCV\n",
    "import umap\n",
    "from sklearn.cluster import DBSCAN\n",
    "from sklearn.datasets import load_digits\n",
    "from sklearn.pipeline import Pipeline\n",
    "from sklearn.neighbors import KNeighborsClassifier\n",
    "from sklearn.model_selection import train_test_split"
   ]
  },
  {
   "cell_type": "code",
   "execution_count": 4,
   "metadata": {},
   "outputs": [
    {
     "name": "stdout",
     "output_type": "stream",
     "text": [
      "(1797, 64)\n"
     ]
    },
    {
     "data": {
      "text/plain": [
       "0.028888888888888888"
      ]
     },
     "execution_count": 4,
     "metadata": {},
     "output_type": "execute_result"
    }
   ],
   "source": [
    "digits = load_digits()\n",
    "X, y = digits.data, digits.target\n",
    "X_train, X_test, y_train, y_test = train_test_split(X, y)\n",
    "print(X.shape)\n",
    "\n",
    "params = {\n",
    "    \"umap__n_neighbors\": range(5, 50),\n",
    "    \"umap__min_dist\": np.logspace(-3, -0.3, num=1000),\n",
    "    \"umap__metric\": [\"l1\", \"l2\", \"cosine\"],\n",
    "    \"umap__learning_rate\": np.logspace(-1, 1, num=1000),\n",
    "    \"umap__init\": [\"spectral\", \"random\"],\n",
    "}\n",
    "classifier = Pipeline(\n",
    "    [(\"umap\", umap.UMAP()), (\"nearest\", KNeighborsClassifier(n_neighbors=10))]\n",
    ")\n",
    "\n",
    "classifier.fit(X_train, y_train)\n",
    "y_hat = classifier.predict(X_test)\n",
    "base_error = (y_hat != y_test).sum() / len(y_hat)\n",
    "base_error"
   ]
  },
  {
   "cell_type": "code",
   "execution_count": 5,
   "metadata": {},
   "outputs": [
    {
     "data": {
      "text/plain": [
       "PartialDataFit(estimator=Pipeline(memory=None,\n",
       "     steps=[('umap', UMAP(a=None, angular_rp_forest=False, b=None, init='spectral',\n",
       "   learning_rate=1.0, local_connectivity=1.0, metric='euclidean',\n",
       "   metric_kwds=None, min_dist=0.1, n_components=2, n_epochs=None,\n",
       "   n_neighbors=15, negative_sample_rate=5, random_state=None,\n",
       "   repulsion_strength=1.0, ...i',\n",
       "           metric_params=None, n_jobs=None, n_neighbors=10, p=2,\n",
       "           weights='uniform'))]),\n",
       "        memory=None,\n",
       "        steps=[('umap', UMAP(a=None, angular_rp_forest=False, b=None, init='spectral',\n",
       "   learning_rate=1.0, local_connectivity=1.0, metric='euclidean',\n",
       "   metric_kwds=None, min_dist=0.1, n_components=2, n_epochs=None,\n",
       "   n_neighbors=15, negative_sample_rate=5, random_state=None,\n",
       "   repulsion_strength=1.0, ...i',\n",
       "           metric_params=None, n_jobs=None, n_neighbors=10, p=2,\n",
       "           weights='uniform'))])"
      ]
     },
     "execution_count": 5,
     "metadata": {},
     "output_type": "execute_result"
    }
   ],
   "source": [
    "est = PartialDataFit(classifier)\n",
    "search = HyperbandSearchCV(est, params, 27)\n",
    "search.model"
   ]
  },
  {
   "cell_type": "code",
   "execution_count": 6,
   "metadata": {},
   "outputs": [
    {
     "data": {
      "text/plain": [
       "PartialDataFit(estimator=Pipeline(memory=None,\n",
       "     steps=[('umap', UMAP(a=None, angular_rp_forest=False, b=None, init='spectral',\n",
       "   learning_rate=0.15072253093107563, local_connectivity=1.0, metric='l1',\n",
       "   metric_kwds=None, min_dist=0.5011872336272722, n_components=2,\n",
       "   n_epochs=None, n_neighbors=27, negative_sample_rate=5,\n",
       "   random_state=None, ...i',\n",
       "           metric_params=None, n_jobs=None, n_neighbors=10, p=2,\n",
       "           weights='uniform'))]),\n",
       "        memory=None,\n",
       "        steps=[('umap', UMAP(a=None, angular_rp_forest=False, b=None, init='spectral',\n",
       "   learning_rate=0.15072253093107563, local_connectivity=1.0, metric='l1',\n",
       "   metric_kwds=None, min_dist=0.5011872336272722, n_components=2,\n",
       "   n_epochs=None, n_neighbors=27, negative_sample_rate=5,\n",
       "   random_state=None, ...i',\n",
       "           metric_params=None, n_jobs=None, n_neighbors=10, p=2,\n",
       "           weights='uniform'))])"
      ]
     },
     "execution_count": 6,
     "metadata": {},
     "output_type": "execute_result"
    }
   ],
   "source": [
    "from sklearn.base import clone\n",
    "kwargs = {'umap__n_neighbors': 27, 'umap__min_dist': 0.5011872336272722, 'umap__metric': 'l1', 'umap__learning_rate': 0.15072253093107563, 'umap__init': 'spectral'}\n",
    "\n",
    "clone(est).set_params(**kwargs)  # test to make sure same type returned"
   ]
  },
  {
   "cell_type": "code",
   "execution_count": 7,
   "metadata": {},
   "outputs": [
    {
     "data": {
      "text/plain": [
       "HyperbandSearchCV(aggressiveness=3, max_iter=27,\n",
       "         model=PartialDataFit(estimator=Pipeline(memory=None,\n",
       "     steps=[('umap', UMAP(a=None, angular_rp_forest=False, b=None, init='spectral',\n",
       "   learning_rate=1.0, local_connectivity=1.0, metric='euclidean',\n",
       "   metric_kwds=None, min_dist=0.1, n_components=2, n_epochs=None,\n",
       "   n_neighbors=15, negative_sam...',\n",
       "           metric_params=None, n_jobs=None, n_neighbors=10, p=2,\n",
       "           weights='uniform'))]),\n",
       "         params={'umap__n_neighbors': range(5, 50), 'umap__min_dist': array([0.001  , 0.00101, ..., 0.49808, 0.50119]), 'umap__metric': ['l1', 'l2', 'cosine'], 'umap__learning_rate': array([ 0.1    ,  0.10046, ...,  9.95401, 10.     ]), 'umap__init': ['spectral', 'random']},\n",
       "         patience=False, tol=0.001)"
      ]
     },
     "execution_count": 7,
     "metadata": {},
     "output_type": "execute_result"
    }
   ],
   "source": [
    "search.fit(X, y)"
   ]
  },
  {
   "cell_type": "code",
   "execution_count": 8,
   "metadata": {},
   "outputs": [
    {
     "data": {
      "text/plain": [
       "0.95"
      ]
     },
     "execution_count": 8,
     "metadata": {},
     "output_type": "execute_result"
    }
   ],
   "source": [
    "search.best_score_"
   ]
  },
  {
   "cell_type": "code",
   "execution_count": 9,
   "metadata": {},
   "outputs": [
    {
     "data": {
      "text/plain": [
       "PartialDataFit(estimator=Pipeline(memory=None,\n",
       "     steps=[('umap', UMAP(a=None, angular_rp_forest=False, b=None, init='spectral',\n",
       "   learning_rate=0.3602106562357071, local_connectivity=1.0,\n",
       "   metric='cosine', metric_kwds=None, min_dist=0.002607451362831879,\n",
       "   n_components=2, n_epochs=None, n_neighbors=22, negative_sample_rate=5,\n",
       "   random_state=N...i',\n",
       "           metric_params=None, n_jobs=None, n_neighbors=10, p=2,\n",
       "           weights='uniform'))]),\n",
       "        memory=None,\n",
       "        steps=[('umap', UMAP(a=None, angular_rp_forest=False, b=None, init='spectral',\n",
       "   learning_rate=0.3602106562357071, local_connectivity=1.0,\n",
       "   metric='cosine', metric_kwds=None, min_dist=0.002607451362831879,\n",
       "   n_components=2, n_epochs=None, n_neighbors=22, negative_sample_rate=5,\n",
       "   random_state=N...i',\n",
       "           metric_params=None, n_jobs=None, n_neighbors=10, p=2,\n",
       "           weights='uniform'))])"
      ]
     },
     "execution_count": 9,
     "metadata": {},
     "output_type": "execute_result"
    }
   ],
   "source": [
    "search.best_estimator_"
   ]
  },
  {
   "cell_type": "code",
   "execution_count": 10,
   "metadata": {},
   "outputs": [
    {
     "data": {
      "text/plain": [
       "9"
      ]
     },
     "execution_count": 10,
     "metadata": {},
     "output_type": "execute_result"
    }
   ],
   "source": [
    "search.best_estimator_._calls  # test this is max_iter"
   ]
  },
  {
   "cell_type": "code",
   "execution_count": null,
   "metadata": {},
   "outputs": [],
   "source": []
  }
 ],
 "metadata": {
  "kernelspec": {
   "display_name": "Python 3",
   "language": "python",
   "name": "python3"
  },
  "language_info": {
   "codemirror_mode": {
    "name": "ipython",
    "version": 3
   },
   "file_extension": ".py",
   "mimetype": "text/x-python",
   "name": "python",
   "nbconvert_exporter": "python",
   "pygments_lexer": "ipython3",
   "version": "3.7.0"
  }
 },
 "nbformat": 4,
 "nbformat_minor": 2
}
